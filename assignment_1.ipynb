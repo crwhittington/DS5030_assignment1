{
 "cells": [
  {
   "cell_type": "markdown",
   "id": "87b91d83",
   "metadata": {},
   "source": [
    "# Assignment 1\n",
    "### Understanding Uncertainty\n",
    "### Due 9/5"
   ]
  },
  {
   "cell_type": "markdown",
   "id": "380e339f",
   "metadata": {},
   "source": [
    "1. Create a new public repo on Github under your account. Include a readme file.\n",
    "2. Clone it to your machine. Put this file into that repo.\n",
    "3. Use the following function to download the example data for the course:"
   ]
  },
  {
   "cell_type": "code",
   "execution_count": 1,
   "id": "2d62b4f6",
   "metadata": {},
   "outputs": [
    {
     "name": "stdout",
     "output_type": "stream",
     "text": [
      "Downloading course data\n",
      "Download complete\n",
      "Extracting data files...\n",
      "Data extracted\n"
     ]
    }
   ],
   "source": [
    "def download_data(force=False):\n",
    "    \"\"\"Download and extract course data from Zenodo.\"\"\"\n",
    "    import urllib.request, zipfile, os\n",
    "    \n",
    "    zip_path = 'data.zip'\n",
    "    data_dir = 'data'\n",
    "    \n",
    "    if not os.path.exists(zip_path) or force:\n",
    "        print(\"Downloading course data\")\n",
    "        urllib.request.urlretrieve(\n",
    "            'https://zenodo.org/records/16954427/files/data.zip?download=1',\n",
    "            zip_path\n",
    "        )\n",
    "        print(\"Download complete\")\n",
    "    else:\n",
    "        print(\"Download file already exists\")\n",
    "        \n",
    "    if not os.path.exists(data_dir) or force:\n",
    "        print(\"Extracting data files...\")\n",
    "        with zipfile.ZipFile(zip_path, 'r') as zip_ref:\n",
    "            zip_ref.extractall(data_dir)\n",
    "        print(\"Data extracted\")\n",
    "    else:\n",
    "        print(\"Data directory already exists\")\n",
    "\n",
    "download_data()"
   ]
  },
  {
   "cell_type": "markdown",
   "id": "01db0045",
   "metadata": {},
   "source": [
    "4. Open one of the datasets using Pandas:\n",
    "    1. `ames_prices.csv`: Housing characteristics and prices\n",
    "    2. `college_completion.csv`: Public, nonprofit, and for-profit educational institutions, graduation rates, and financial aid\n",
    "    3. `ForeignGifts_edu.csv`: Monetary and in-kind transfers from foreign entities to U.S. educational institutions\n",
    "    4. `iowa.csv`: Liquor sales in Iowa, at the transaction level\n",
    "    5. `metabric.csv`: Cancer patient and outcome data\n",
    "    6. `mn_police_use_of_force.csv`: Records of physical altercations between Minnessota police and private citizens\n",
    "    7. `nhanes_data_17_18.csv`: National Health and Nutrition Examination Survey\n",
    "    8. `tuna.csv`: Yellowfin Tuna Genome (I don't recommend this one; it's just a sequence of G, C, A, T )\n",
    "    9. `va_procurement.csv`: Public spending by the state of Virginia"
   ]
  },
  {
   "cell_type": "code",
   "execution_count": 4,
   "id": "1b14d1f5",
   "metadata": {},
   "outputs": [
    {
     "data": {
      "text/html": [
       "<div>\n",
       "<style scoped>\n",
       "    .dataframe tbody tr th:only-of-type {\n",
       "        vertical-align: middle;\n",
       "    }\n",
       "\n",
       "    .dataframe tbody tr th {\n",
       "        vertical-align: top;\n",
       "    }\n",
       "\n",
       "    .dataframe thead th {\n",
       "        text-align: right;\n",
       "    }\n",
       "</style>\n",
       "<table border=\"1\" class=\"dataframe\">\n",
       "  <thead>\n",
       "    <tr style=\"text-align: right;\">\n",
       "      <th></th>\n",
       "      <th>Invoice/Item Number</th>\n",
       "      <th>Date</th>\n",
       "      <th>Store Number</th>\n",
       "      <th>Store Name</th>\n",
       "      <th>Zip Code</th>\n",
       "      <th>Category Name</th>\n",
       "      <th>Vendor Name</th>\n",
       "      <th>Item Number</th>\n",
       "      <th>Item Description</th>\n",
       "      <th>Bottle Volume (ml)</th>\n",
       "      <th>State Bottle Cost</th>\n",
       "      <th>State Bottle Retail</th>\n",
       "      <th>Bottles Sold</th>\n",
       "      <th>Sale (Dollars)</th>\n",
       "    </tr>\n",
       "  </thead>\n",
       "  <tbody>\n",
       "    <tr>\n",
       "      <th>0</th>\n",
       "      <td>INV-59108400026</td>\n",
       "      <td>06/06/2023</td>\n",
       "      <td>3723</td>\n",
       "      <td>J D SPIRITS LIQUOR</td>\n",
       "      <td>51040</td>\n",
       "      <td>STRAIGHT RYE WHISKIES</td>\n",
       "      <td>INFINIUM SPIRITS</td>\n",
       "      <td>27102</td>\n",
       "      <td>TEMPLETON RYE 4YR</td>\n",
       "      <td>750</td>\n",
       "      <td>18.09</td>\n",
       "      <td>27.14</td>\n",
       "      <td>2</td>\n",
       "      <td>54.28</td>\n",
       "    </tr>\n",
       "    <tr>\n",
       "      <th>1</th>\n",
       "      <td>S16879800057</td>\n",
       "      <td>01/16/2014</td>\n",
       "      <td>3926</td>\n",
       "      <td>LIQUOR DOWNTOWN / IOWA CITY</td>\n",
       "      <td>52240</td>\n",
       "      <td>VODKA 80 PROOF</td>\n",
       "      <td>HEAVEN HILL BRANDS</td>\n",
       "      <td>35416</td>\n",
       "      <td>BURNETT'S VODKA 80 PRF</td>\n",
       "      <td>750</td>\n",
       "      <td>4.84</td>\n",
       "      <td>7.26</td>\n",
       "      <td>12</td>\n",
       "      <td>87.12</td>\n",
       "    </tr>\n",
       "    <tr>\n",
       "      <th>2</th>\n",
       "      <td>INV-05301100019</td>\n",
       "      <td>06/05/2017</td>\n",
       "      <td>3829</td>\n",
       "      <td>GARY'S FOODS / MT VERNON</td>\n",
       "      <td>52314</td>\n",
       "      <td>CANADIAN WHISKIES</td>\n",
       "      <td>DIAGEO AMERICAS</td>\n",
       "      <td>11296</td>\n",
       "      <td>CROWN ROYAL</td>\n",
       "      <td>750</td>\n",
       "      <td>15.59</td>\n",
       "      <td>23.39</td>\n",
       "      <td>6</td>\n",
       "      <td>135.66</td>\n",
       "    </tr>\n",
       "    <tr>\n",
       "      <th>3</th>\n",
       "      <td>INV-40973500083</td>\n",
       "      <td>10/14/2021</td>\n",
       "      <td>5102</td>\n",
       "      <td>WILKIE LIQUORS</td>\n",
       "      <td>52314</td>\n",
       "      <td>AMERICAN SCHNAPPS</td>\n",
       "      <td>JIM BEAM BRANDS</td>\n",
       "      <td>82787</td>\n",
       "      <td>DEKUYPER BUTTERSHOTS</td>\n",
       "      <td>1000</td>\n",
       "      <td>7.87</td>\n",
       "      <td>11.81</td>\n",
       "      <td>12</td>\n",
       "      <td>141.72</td>\n",
       "    </tr>\n",
       "    <tr>\n",
       "      <th>4</th>\n",
       "      <td>INV-17022500013</td>\n",
       "      <td>01/18/2019</td>\n",
       "      <td>2560</td>\n",
       "      <td>HY-VEE FOOD STORE / MARION</td>\n",
       "      <td>52302</td>\n",
       "      <td>WHISKEY LIQUEUR</td>\n",
       "      <td>SAZERAC COMPANY  INC</td>\n",
       "      <td>64863</td>\n",
       "      <td>FIREBALL CINNAMON WHISKEY</td>\n",
       "      <td>200</td>\n",
       "      <td>2.50</td>\n",
       "      <td>3.75</td>\n",
       "      <td>12</td>\n",
       "      <td>45.00</td>\n",
       "    </tr>\n",
       "  </tbody>\n",
       "</table>\n",
       "</div>"
      ],
      "text/plain": [
       "  Invoice/Item Number        Date  Store Number                   Store Name  \\\n",
       "0     INV-59108400026  06/06/2023          3723           J D SPIRITS LIQUOR   \n",
       "1        S16879800057  01/16/2014          3926  LIQUOR DOWNTOWN / IOWA CITY   \n",
       "2     INV-05301100019  06/05/2017          3829     GARY'S FOODS / MT VERNON   \n",
       "3     INV-40973500083  10/14/2021          5102               WILKIE LIQUORS   \n",
       "4     INV-17022500013  01/18/2019          2560   HY-VEE FOOD STORE / MARION   \n",
       "\n",
       "  Zip Code          Category Name           Vendor Name  Item Number  \\\n",
       "0    51040  STRAIGHT RYE WHISKIES      INFINIUM SPIRITS        27102   \n",
       "1    52240         VODKA 80 PROOF    HEAVEN HILL BRANDS        35416   \n",
       "2    52314      CANADIAN WHISKIES       DIAGEO AMERICAS        11296   \n",
       "3    52314      AMERICAN SCHNAPPS       JIM BEAM BRANDS        82787   \n",
       "4    52302        WHISKEY LIQUEUR  SAZERAC COMPANY  INC        64863   \n",
       "\n",
       "            Item Description  Bottle Volume (ml)  State Bottle Cost  \\\n",
       "0          TEMPLETON RYE 4YR                 750              18.09   \n",
       "1     BURNETT'S VODKA 80 PRF                 750               4.84   \n",
       "2                CROWN ROYAL                 750              15.59   \n",
       "3       DEKUYPER BUTTERSHOTS                1000               7.87   \n",
       "4  FIREBALL CINNAMON WHISKEY                 200               2.50   \n",
       "\n",
       "   State Bottle Retail  Bottles Sold  Sale (Dollars)  \n",
       "0                27.14             2           54.28  \n",
       "1                 7.26            12           87.12  \n",
       "2                23.39             6          135.66  \n",
       "3                11.81            12          141.72  \n",
       "4                 3.75            12           45.00  "
      ]
     },
     "execution_count": 4,
     "metadata": {},
     "output_type": "execute_result"
    }
   ],
   "source": [
    "import pandas as pd\n",
    "import numpy as np\n",
    "import matplotlib.pyplot as plt\n",
    "import seaborn as sns\n",
    "\n",
    "data = pd.read_csv(r\"C:\\Users\\crush\\OneDrive\\Desktop\\DS 5030\\assignment1\\data\\iowa.csv\")\n",
    "data.head()"
   ]
  },
  {
   "cell_type": "markdown",
   "id": "fa5cade1",
   "metadata": {},
   "source": [
    "5. Pick two or three variables and briefly analyze them\n",
    "    - Is it a categorical or numeric variable?\n",
    "    - How many missing values are there? (`df['var'].isna()` and `np.sum()`)\n",
    "    - If categorical, tabulate the values (`df['var'].value_counts()`) and if numeric, get a summary (`df['var'].describe()`)"
   ]
  },
  {
   "cell_type": "code",
   "execution_count": null,
   "id": "e5ebb992",
   "metadata": {},
   "outputs": [
    {
     "name": "stdout",
     "output_type": "stream",
     "text": [
      "Variable 1: Bottles Sold\n",
      "1. The variable is a numeric variable.\n",
      "2. The variable has 0 missing values.\n",
      "3. The summary for this variable is: count    159904.000000\n",
      "mean         10.883336\n",
      "std          28.042635\n",
      "min         -60.000000\n",
      "25%           3.000000\n",
      "50%           6.000000\n",
      "75%          12.000000\n",
      "max        2400.000000\n",
      "Name: Bottles Sold, dtype: float64\n"
     ]
    }
   ],
   "source": [
    "print(f'Variable 1: Bottles Sold')\n",
    "\n",
    "print(f'1. The variable is a numeric variable.')\n",
    "\n",
    "# 2. \n",
    "\n",
    "print(f'2. The variable has {data[\"Bottles Sold\"].isna().sum(axis=0)} missing values.')\n",
    "\n",
    "# 3. \n",
    "\n",
    "print(f'3. The summary for this variable is: {data[\"Bottles Sold\"].describe()}')"
   ]
  },
  {
   "cell_type": "code",
   "execution_count": 16,
   "id": "4debc87b",
   "metadata": {},
   "outputs": [
    {
     "name": "stdout",
     "output_type": "stream",
     "text": [
      "Variable 2: Sale (Dollars)\n",
      "1. The variable is a numeric variable.\n",
      "2. The variable has 0 missing values.\n",
      "3. The summary for this variable is: count    159904.000000\n",
      "mean        146.931598\n",
      "std         459.368723\n",
      "min       -1628.400000\n",
      "25%          36.550000\n",
      "50%          78.660000\n",
      "75%         152.880000\n",
      "max       36720.000000\n",
      "Name: Sale (Dollars), dtype: float64\n"
     ]
    }
   ],
   "source": [
    "print(f'Variable 2: Sale (Dollars)')\n",
    "\n",
    "print(f'1. The variable is a numeric variable.')\n",
    "\n",
    "# 2. \n",
    "\n",
    "print(f'2. The variable has {data[\"Sale (Dollars)\"].isna().sum(axis=0)} missing values.')\n",
    "\n",
    "# 3. \n",
    "\n",
    "print(f'3. The summary for this variable is: {data[\"Sale (Dollars)\"].describe()}')"
   ]
  },
  {
   "cell_type": "code",
   "execution_count": 17,
   "id": "962c1854",
   "metadata": {},
   "outputs": [
    {
     "name": "stdout",
     "output_type": "stream",
     "text": [
      "Variable 3: Bottle Volume (ml)\n",
      "1. The variable is a numeric variable.\n",
      "2. The variable has 0 missing values.\n",
      "3. The summary for this variable is: count    159904.000000\n",
      "mean        869.592737\n",
      "std         513.812818\n",
      "min          20.000000\n",
      "25%         750.000000\n",
      "50%         750.000000\n",
      "75%        1000.000000\n",
      "max        6000.000000\n",
      "Name: Bottle Volume (ml), dtype: float64\n"
     ]
    }
   ],
   "source": [
    "print(f'Variable 3: Bottle Volume (ml)')\n",
    "\n",
    "print(f'1. The variable is a numeric variable.')\n",
    "\n",
    "# 2. \n",
    "\n",
    "print(f'2. The variable has {data[\"Bottle Volume (ml)\"].isna().sum(axis=0)} missing values.')\n",
    "\n",
    "# 3. \n",
    "\n",
    "print(f'3. The summary for this variable is: {data[\"Bottle Volume (ml)\"].describe()}')"
   ]
  },
  {
   "cell_type": "markdown",
   "id": "dbf2318a",
   "metadata": {},
   "source": [
    "6. What are some questions and prediction tools you could create using these data? Who would the stakeholder be for that prediction tool? What practical or ethical questions would it create? What other data would you want, that are not available in your data?"
   ]
  },
  {
   "cell_type": "markdown",
   "id": "5d5d71a5",
   "metadata": {},
   "source": [
    "Using this data, we could ask questions about the different types and quantities of liquor sold in Iowa. We could also use the data to predict how much liquor (total mL) would be sold in 2026 based on past years of data. Stakeholders such as liquor store owners and state employees that manage the sell of liquor would be interested in using this predictive tool. Practically, liquor sales differ from year to year and so predicting the amount of liquor sold in 2026 could be a challenge. Ethically, some could dislike the amount of information and data the state has on alcohol sales because policies could be passed to limit the sale for political reasons. Although this would be difficult to get, the sale of other types of alcohol from non-liquor stores, like wine and beer, would be helpful information in determining how much alcohol is sold in the state of Iowa in a given year. However, since stores aren't required to report this like they do liquor, obtaining this data would be a hassle."
   ]
  },
  {
   "cell_type": "markdown",
   "id": "a4a7ddc7",
   "metadata": {},
   "source": [
    "7. Commit your work to the repo (`git commit -am 'Finish assignment'` at the command line, or use the Git panel in VS Code). Push your work back to Github and submit the link on Canvas in the assignment tab."
   ]
  }
 ],
 "metadata": {
  "kernelspec": {
   "display_name": "Python 3",
   "language": "python",
   "name": "python3"
  },
  "language_info": {
   "codemirror_mode": {
    "name": "ipython",
    "version": 3
   },
   "file_extension": ".py",
   "mimetype": "text/x-python",
   "name": "python",
   "nbconvert_exporter": "python",
   "pygments_lexer": "ipython3",
   "version": "3.10.5"
  }
 },
 "nbformat": 4,
 "nbformat_minor": 5
}
